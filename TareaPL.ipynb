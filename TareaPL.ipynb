{
  "nbformat": 4,
  "nbformat_minor": 0,
  "metadata": {
    "colab": {
      "private_outputs": true,
      "provenance": [],
      "toc_visible": true,
      "include_colab_link": true
    },
    "kernelspec": {
      "name": "python3",
      "display_name": "Python 3"
    },
    "language_info": {
      "name": "python"
    }
  },
  "cells": [
    {
      "cell_type": "markdown",
      "metadata": {
        "id": "view-in-github",
        "colab_type": "text"
      },
      "source": [
        "<a href=\"https://colab.research.google.com/github/IsabellaAriza99/Optimizacion/blob/main/TareaPL.ipynb\" target=\"_parent\"><img src=\"https://colab.research.google.com/assets/colab-badge.svg\" alt=\"Open In Colab\"/></a>"
      ]
    },
    {
      "cell_type": "code",
      "execution_count": null,
      "metadata": {
        "id": "PqNvXHLkTM1e"
      },
      "outputs": [],
      "source": []
    },
    {
      "cell_type": "markdown",
      "source": [
        "# <font color='056938'> **Descripción del problema** </font>\n",
        "\n",
        "El grupo enpresarial **Floresta** ha contratado a la agencia publicitaria **WonderBrands** para gestionar el mercadeo de sus cuatro lineas de negocio. La agencia ha establecido seis canales de mercadeo en los que desea priorizar:\n",
        "\n",
        "| Canal de Marketing | Descripción |\n",
        "|--------------------|-------------|\n",
        "| Impreso            | Anuncios o mensajes promocionales distribuidos en medios físicos como periódicos, revistas, folletos, etc. |\n",
        "| TV                 | Transmisión de anuncios o contenido promocional a través de la televisión para alcanzar audiencias masivas. |\n",
        "| SEO                | Estrategias para mejorar la visibilidad y el ranking de un sitio web en los resultados de búsqueda orgánica. |\n",
        "| AdWords            | Publicidad de pago por clic (PPC) en la plataforma de Google, que muestra anuncios en los resultados de búsqueda y en otros sitios web. |\n",
        "| Redes sociales     | Estrategias de marketing que implican la promoción de productos o servicios a través de plataformas de redes sociales como Facebook, Twitter, Instagram, etc. |\n",
        "| Email              | Enviar mensajes promocionales o informativos a una lista de correo electrónico con el objetivo de aumentar las ventas o el compromiso del cliente. |\n",
        "\n",
        "El exito de las campañas a través de estos canales  se mide a tráves de dos indicadores de desempeño, en  particular se esta interesado en:\n",
        "\n",
        "* **ROI** - Retorno de la Inversión: Calcula los ingresos generados por la campaña en comparación con el costo de ejecutarla\n",
        "* **CR** - Tasa de Conversión: Porcentaje de personas que realizaron una acción deseada sobre el total de personas impactadas por cada millon de pesos invertido.\n",
        "\n",
        "Estudios previos han permitido estimar los siguientes valores de **ROI** y **CR**\n",
        "\n",
        "\n",
        "| Canal de Marketing | Línea 1 | Línea 2 | Línea 3 | Línea 4 | | CR (%)|\n",
        "|--------------------|---------|---------|---------|---------| | |\n",
        "| Impreso            | 3.1     | 3.0     | 3.5     | 2.9     | |0.2 |\n",
        "| TV                 | 5.2     | 4.8     | 5.1     | 4.5     | |0.2 |\n",
        "| SEO                | 6.1     | 6.4     | 7.0     | 6.8     | |0.4 |\n",
        "| AdWords            | 4.0     | 4.5     | 4.9     | 4.9     | |0.5 |\n",
        "| Redes sociales     | 7.1     | 7.6     | 7.1     | 7.8     | |1.1 |\n",
        "| Email              | 8.0     | 8.9     | 8.3     | 8.8     | |1.1 |\n",
        "\n",
        "\n",
        "\n",
        "\n",
        "\n",
        "\n",
        "La planeación de la campaña de mercadeo requiere establecer la cantidad de dinero que se debe destinar para cada línea de negocio en cada canal, con el fin de maximizar el **ROI**.\n",
        "\n",
        "Para ello debe considerarse que:\n",
        "* Se dispone de un presupuesto máximo de 100 millones para destinar a la campaña\n",
        "* El valor mínimo deseado para el  **CR** es de 25%\n",
        "* El **CR** incrementa por cada millon de pesos invertidos en los porcentajes especificados para cada canal de mercadeo, hasta alcanzar un máximo del 10%, valor a partir del cual la inversión adicional en dicho canal no incrementa el valor de **CR**\n",
        "* La inversión en los diversos canales debe ser balanceada. Para ello, la diferencia entre el mayor valor de inversión y el menor valor de inversión no debe superar el 10%  \n",
        "\n",
        "\n"
      ],
      "metadata": {
        "id": "3LmS9y7iUqsL"
      }
    },
    {
      "cell_type": "markdown",
      "source": [
        "# <font color='056938'> **Verbalización del modelo** </font>\n",
        "Consideraremos la siguiente verbalización del problema\n",
        "\n"
      ],
      "metadata": {
        "id": "JpTpdq81dJCf"
      }
    },
    {
      "cell_type": "markdown",
      "source": [
        "## <font color='8EC044'> **Conjuntos** </font>\n",
        "\n",
        "\n",
        "| Conjuntos | Descripción                    |\n",
        "|----------|--------------------------------|\n",
        "| $N$      | Líneas de negocio       |\n",
        "| $M$      | Canales de mercadeo  |\n",
        "\n"
      ],
      "metadata": {
        "id": "_odidTvtdXOn"
      }
    },
    {
      "cell_type": "markdown",
      "source": [
        "## <font color='8EC044'> **Parámetros** </font>\n",
        "\n",
        "Debemos cosiderar los siguientes parámetros\n",
        "\n",
        "\n",
        "| Parámetro | Descripción |\n",
        "|-----------|-------------|\n",
        "| $roi_{ij}$     | **ROI** de cada canal  de mercadeo $j$ en cada linea de negocio $i$. |\n",
        "| $cr_{j}$  | **CR** de cada canal de mercadeo $j$. |\n",
        "| $B$   |  Presupuesto total disponible |\n",
        "| $\\eta$   |  máximo valor de **CR** alcanzable por canal  |\n",
        "| $\\alpha$   | Valor mínimo deseable del **CR** acumulado entre todos los canales  |\n",
        "| $\\beta$   | Diferencia máxima entre la inversión en cada canal  |\n"
      ],
      "metadata": {
        "id": "3mWRkGFUmSQG"
      }
    },
    {
      "cell_type": "markdown",
      "source": [
        "\n",
        "## <font color='8EC044'> **Decisiones** </font>\n",
        "Cantidad de dinero (millones) que se debe destinar para cada línea de negocio en cada canal. Además, es probable que requerimos de variables auxiliares para calcular la inversión mínima y máxima en cada canal\n",
        "\n",
        "| Variable | Descripción |\n",
        "|-----------|-------------|\n",
        "| $x_{ij}$     | Cantidad de dinero (millones) invertidaen el canal  de mercadeo $j$ en la linea de negocio $i$. |\n",
        "| $inv\\_min$  | cantidad mínima invertida en algun canal de ercadeo  |\n",
        "| $inv\\_max$  | cantidad máxima invertida en algun canal de ercadeo  |\n"
      ],
      "metadata": {
        "id": "i6MPOygzm_Ur"
      }
    },
    {
      "cell_type": "markdown",
      "source": [
        "## <font color='8EC044'> **Restricciones** </font>\n",
        "* Se dispone de un presupuesto máximo de 100 millones para destinar a la campaña\n",
        "* El valor mínimo deseado para el  **CR** es de 25%\n",
        "* El **CR** incrementa por cada millon de pesos invertidos en los porcentajes especificados para cada canal de mercadeo, hasta alcanzar un máximo del 10%, valor a partir del cual la inversión adicional en dicho canal no incrementa el valor de **CR**\n",
        "* La inversión en los diversos canales debe ser balanceada. Para ello, la diferencia entre el mayor porcentaje de inversión y el menor porcentaje de inversión no debe superar el 10%\n"
      ],
      "metadata": {
        "id": "ZJrtaKULnNVa"
      }
    },
    {
      "cell_type": "markdown",
      "source": [
        "\n",
        "## <font color='8EC044'> **Objetivo** </font>\n",
        "Maximizar el retorno total de la invesrión entendido como la suma de los retornos **ROI** de las cantidades invertidas para cada linea de negocio en cada canal"
      ],
      "metadata": {
        "id": "eJmHghHun7ah"
      }
    },
    {
      "cell_type": "markdown",
      "source": [
        "\n",
        "# <font color='056938'> **Modelación** </font>\n",
        "\n",
        "El siguiente modelo mátematico representa el problema de optimización descrito.\n",
        "\n",
        "\\begin{align*}\n",
        "\\text{maximizar} \\ z = &\\sum_{i \\in N}\\sum_{j \\in M} roi_{ij}x_{ij}\\\\\n",
        "\\text{s.a.} \\\\\n",
        "& \\sum_{i \\in N}\\sum_{j \\in M} x_{ij} \\leq B\\\\\n",
        "& \\sum_{j \\in M} \\min \\left\\{ cr_j\\sum_{i \\in N} x_{ij}, \\ \\eta  \\right\\} \\geq \\alpha \\\\\n",
        "&\\dfrac{\\max_{j \\in M} \\left\\{ \\sum_{i \\in N} x_{ij}   \\right\\} - \\min_{j \\in M} \\left\\{ \\sum_{i \\in N} x_{ij}   \\right\\}}{\\sum_{i \\in N}\\sum_{j \\in M} x_{ij}} \\leq \\beta\\\\\n",
        "&x_{ij} \\geq 0\\quad \\forall i \\in N\\ \\forall j \\in M\n",
        "\\end{align*}"
      ],
      "metadata": {
        "id": "ZuRCovNSwi9J"
      }
    },
    {
      "cell_type": "markdown",
      "source": [
        "# <font color='056938'> **Práctica** </font>\n",
        "\n",
        "De solución a las siguientes preguntas"
      ],
      "metadata": {
        "id": "20OvfwfSfQvO"
      }
    },
    {
      "cell_type": "markdown",
      "source": [
        "## <font color='8EC044'> **Punto 1. Linearización** </font>\n",
        "\n",
        "Explique porque el modelo descrito no es lineal y relice las transformaciones necesarias para convertirlo en un modelo lineal. Puede subir en este notebook el modelo resultante como una imagen o modficar el modelo descrito en `latex` de la unidad anterior.  "
      ],
      "metadata": {
        "id": "UcRC2wnlfYe-"
      }
    },
    {
      "cell_type": "markdown",
      "source": [
        "## <font color='8EC044'> **Punto 2. Implementación** </font>\n",
        "Implemente, directamente en este notebook, el modelo descrito. Use para ello cualquiera de los lenguaje de modelación y solucionadores compatibles. Para ello:"
      ],
      "metadata": {
        "id": "11fkP_i6gMcs"
      }
    },
    {
      "cell_type": "markdown",
      "source": [
        "<font color='46B8A9'> **Cree la instancia de datos** </font>\n",
        "\n",
        "Cree las estructuras de datos (listas, diccionarios) necesarias para almancenar la información de la instancia."
      ],
      "metadata": {
        "id": "UwefOGckqpCQ"
      }
    },
    {
      "cell_type": "code",
      "source": [
        "# Escriba aquí su respuesta\n"
      ],
      "metadata": {
        "id": "R4MVMEC8qdcJ"
      },
      "execution_count": null,
      "outputs": []
    },
    {
      "cell_type": "markdown",
      "source": [
        "<font color='46B8A9'> **Implemente la función que genera el modelo** </font>\n",
        "\n",
        "Cree una función que reciba como argumnetos las estructuras de datos con la información de la instancia y retorne el modelo"
      ],
      "metadata": {
        "id": "QBQ5-NLZrFQ_"
      }
    },
    {
      "cell_type": "code",
      "source": [
        "# Escriba aquí su respuesta\n"
      ],
      "metadata": {
        "id": "zWtC1GGsrqsu"
      },
      "execution_count": null,
      "outputs": []
    },
    {
      "cell_type": "markdown",
      "source": [
        "<font color='46B8A9'> **Imprima la solución óptima** </font>\n",
        "\n",
        "Resuelva e imprima la solución óptima del modelo implementado"
      ],
      "metadata": {
        "id": "jbwAkWDLrtke"
      }
    },
    {
      "cell_type": "code",
      "source": [
        "# Escriba aquí su respuesta\n"
      ],
      "metadata": {
        "id": "3aFWsKn8sY4v"
      },
      "execution_count": null,
      "outputs": []
    },
    {
      "cell_type": "markdown",
      "source": [
        "## <font color='8EC044'> **Punto 3. Análisis de sensibilidad y dualidad** </font>\n",
        "\n",
        "Use los conceptos de dualidad y sensibilidad para explorar y analizar la solución obtenida respecto a preguntas del negocio. Tenga en cuenta aspectos como:\n",
        "\n",
        "* ¿Cuál es el impacto de la limitación de presupuesto en la maximización del **ROI**?\n",
        "* ¿Es posible obtener retornos de inversión **ROI** similares a los óptimos exigiendo mayores niveles de tasa de conversión **CR**?\n",
        "* Permitir un mayor desbalance entre los porcentajes de inversión en los distintos canales de mercadeo permite obtener mejores retornos de inversión **ROI**?\n",
        "* Si se esta dispuesto a invertir en perfilar mejor alguno de las lineas de negocio o de los canales de mercadeo con el fin de entederlo mejor y obtener mejores tasas de retorno **ROI** o tasas de conversión **CR**, ¿En cuál o cuales recomendaria usted enfocarse?\n",
        "\n",
        "Presente separadamente los desarrollos de programación que requiera de los resultados obtenidos y su análisis"
      ],
      "metadata": {
        "id": "5tJhwl-csep9"
      }
    }
  ]
}